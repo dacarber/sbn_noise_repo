{
 "cells": [
  {
   "cell_type": "code",
   "execution_count": 3,
   "id": "bc68eb20",
   "metadata": {},
   "outputs": [],
   "source": [
    "import uproot\n",
    "import matplotlib.pyplot as plt\n",
    "import seaborn\n",
    "import numpy as np\n",
    "import math\n",
    "from scipy.fft import fft, fftfreq\n",
    "import plotly.express as px\n",
    "import plotly.io as pio\n",
    "import plotly.graph_objects as go\n",
    "import numpy as np\n",
    "import pandas as pd\n",
    "from datetime import datetime, timedelta\n",
    "\n",
    "import os\n",
    "from plotly.subplots import make_subplots\n",
    "from plotly import tools\n",
    "import plotly.offline as pyo\n",
    "import sys"
   ]
  },
  {
   "cell_type": "code",
   "execution_count": 4,
   "id": "0a4e2221",
   "metadata": {},
   "outputs": [
    {
     "data": {
      "text/plain": [
       "['UB_plane', 'VB_plane', 'YB_plane', 'UA_plane', 'VA_plane', 'YA_plane']"
      ]
     },
     "execution_count": 4,
     "metadata": {},
     "output_type": "execute_result"
    }
   ],
   "source": [
    "files =uproot.open(f\"/Users/danielcarber/Documents/SBND/Noise Analysis/data/waveform_output.root\")\n",
    "files['tpc_noise;1'].keys()"
   ]
  },
  {
   "cell_type": "code",
   "execution_count": 14,
   "id": "91655eb8",
   "metadata": {},
   "outputs": [
    {
     "name": "stdout",
     "output_type": "stream",
     "text": [
      "10437721\n"
     ]
    }
   ],
   "source": [
    "raw_rms = files['tpc_noise;1']['VB_plane'].array().to_list()\n",
    "print(len(raw_rms))\n"
   ]
  },
  {
   "cell_type": "code",
   "execution_count": null,
   "id": "e87ce563",
   "metadata": {},
   "outputs": [],
   "source": [
    "seaborn.set(rc={\n",
    "    'figure.figsize':(20, 6),\n",
    "})\n",
    "seaborn.set_context('talk')\n",
    "#plt.plot(range(len(ADC_array[0][0])),ADC_array[0][4231])\n",
    "#plt.hist(signal_diff_coll,range = [0,300],bins = 100, label = \"Coll\")\n",
    "#plt.hist(signal_diff_ind_1,range = [0,300],bins = 100,alpha = .6, label = \"Ind 1\")\n",
    "#plt.hist(signal_diff_ind_2,range = [0,300],bins = 100, alpha = .2,label = \"Ind 2\")\n",
    "#plt.scatter(df['channel_id'],df['raw_rms'],alpha = 1, label = \"RMS before shift\",s = 10)\n",
    "#plt.scatter(df_2['channel_id'],df_2['raw_rms'],alpha = 1, label = \"RMS after shift\",s = 10)\n",
    "plt.scatter(range(len(raw_rms)),raw_rms ,alpha = .8,s = 5, label = \"RMS of Channels w/ signals\")\n",
    "\n",
    "#plt.hist(df['Time_diff'], range=[0, 2000],bins=50,alpha =1, label = \"Time difference\")\n",
    "#plt.hist(selection['reco_dedx'][ep_mask_e], range=[0, 10], alpha = .4,bins=50,label = \"Reco Electrons\")\n",
    "#plt.ylim(0,17.5)\n",
    "#plt.xlim(0,3415)\n",
    "#plt.yscale(\"log\")\n",
    "#plt.legend(loc = \"upper right\")\n",
    "plt.xlabel(\"Channels\")\n",
    "plt.ylabel(\"RMS\")\n",
    "plt.title(\"RMS of Run 10775\")\n",
    "plt.show()"
   ]
  },
  {
   "cell_type": "code",
   "execution_count": null,
   "id": "55c09976",
   "metadata": {},
   "outputs": [],
   "source": [
    "raw_rms = files['tpc_noise;1']['int_rms'].array().to_list()\n",
    "Noise_df = {}\n",
    "for r,rms in enumerate(rangeraw_rms):\n",
    "    Noise_df['Channel_id'].append(r)\n",
    "    wave\n",
    "    Noise_df['Diff'].append(rms)\n",
    "    if r <1984:\n",
    "        Noise_df['wire_plane'].append('UB')\n",
    "    elif r<3968:\n",
    "        Noise_df['wire_plane'].append('VB')\n",
    "    elif r<5632:\n",
    "        Noise_df['wire_plane'].append('YB')\n",
    "    elif r<7616:\n",
    "        Noise_df['wire_plane'].append('UA')\n",
    "    elif r<9600:\n",
    "        Noise_df['wire_plane'].append('VA')\n",
    "    elif r<11264:\n",
    "        Noise_df['wire_plane'].append('YA')\n",
    "    else:\n",
    "        Noise_df['wire_plane'].append(None)\n",
    "\n",
    "Noise_df = pd.DataFrame(Noise_df)"
   ]
  }
 ],
 "metadata": {
  "kernelspec": {
   "display_name": "Python 3 (ipykernel)",
   "language": "python",
   "name": "python3"
  },
  "language_info": {
   "codemirror_mode": {
    "name": "ipython",
    "version": 3
   },
   "file_extension": ".py",
   "mimetype": "text/x-python",
   "name": "python",
   "nbconvert_exporter": "python",
   "pygments_lexer": "ipython3",
   "version": "3.10.8"
  }
 },
 "nbformat": 4,
 "nbformat_minor": 5
}
