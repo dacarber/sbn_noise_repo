{
 "cells": [
  {
   "cell_type": "code",
   "execution_count": 2,
   "id": "fa3fbeac",
   "metadata": {},
   "outputs": [],
   "source": [
    "import uproot\n",
    "import matplotlib.pyplot as plt\n",
    "import seaborn\n",
    "import numpy as np\n",
    "import math\n",
    "from scipy.fft import fft, fftfreq\n",
    "import plotly.express as px\n",
    "import plotly.io as pio\n",
    "import plotly.graph_objects as go\n",
    "import numpy as np\n",
    "import pandas as pd\n",
    "from datetime import datetime, timedelta\n",
    "\n",
    "import os\n",
    "from plotly.subplots import make_subplots\n",
    "from plotly import tools\n",
    "import plotly.offline as pyo\n",
    "import sys"
   ]
  },
  {
   "cell_type": "code",
   "execution_count": 3,
   "id": "e3b54c1a",
   "metadata": {},
   "outputs": [
    {
     "data": {
      "text/plain": [
       "['veform_']"
      ]
     },
     "execution_count": 3,
     "metadata": {},
     "output_type": "execute_result"
    }
   ],
   "source": [
    "files =uproot.open(f\"/Users/danielcarber/Documents/SBND/Noise Analysis/data/waveform_output.root\")\n",
    "files['tpc_noise;1'].keys()"
   ]
  },
  {
   "cell_type": "code",
   "execution_count": 7,
   "id": "84a6f765",
   "metadata": {},
   "outputs": [
    {
     "name": "stdout",
     "output_type": "stream",
     "text": [
      "3415\n"
     ]
    }
   ],
   "source": [
    "raw_rms = files['tpc_noise;1']['veform_'].array().to_list()\n",
    "print(len(raw_rms))\n"
   ]
  },
  {
   "cell_type": "code",
   "execution_count": null,
   "id": "bbc33c67",
   "metadata": {},
   "outputs": [],
   "source": [
    "raw_rms = files['tpc_noise;1']['int_rms'].array().to_list()\n",
    "Noise_df = {}\n",
    "for r,rms in enumerate(rangeraw_rms):\n",
    "    Noise_df['Channel_id'].append(r)\n",
    "    wave\n",
    "    Noise_df['Diff'].append(rms)\n",
    "    if r <1984:\n",
    "        Noise_df['wire_plane'].append('UB')\n",
    "    elif r<3968:\n",
    "        Noise_df['wire_plane'].append('VB')\n",
    "    elif r<5632:\n",
    "        Noise_df['wire_plane'].append('YB')\n",
    "    elif r<7616:\n",
    "        Noise_df['wire_plane'].append('UA')\n",
    "    elif r<9600:\n",
    "        Noise_df['wire_plane'].append('VA')\n",
    "    elif r<11264:\n",
    "        Noise_df['wire_plane'].append('YA')\n",
    "    else:\n",
    "        Noise_df['wire_plane'].append(None)\n",
    "\n",
    "Noise_df = pd.DataFrame(Noise_df)"
   ]
  }
 ],
 "metadata": {
  "kernelspec": {
   "display_name": "Python 3 (ipykernel)",
   "language": "python",
   "name": "python3"
  },
  "language_info": {
   "codemirror_mode": {
    "name": "ipython",
    "version": 3
   },
   "file_extension": ".py",
   "mimetype": "text/x-python",
   "name": "python",
   "nbconvert_exporter": "python",
   "pygments_lexer": "ipython3",
   "version": "3.10.8"
  }
 },
 "nbformat": 4,
 "nbformat_minor": 5
}
